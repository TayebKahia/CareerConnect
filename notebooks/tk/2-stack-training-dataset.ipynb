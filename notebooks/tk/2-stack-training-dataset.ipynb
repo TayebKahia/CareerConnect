{
 "cells": [
  {
   "cell_type": "markdown",
   "id": "f4c5e4ad",
   "metadata": {},
   "source": [
    "# Stack Overflow Survey Data Preprocessing\n",
    "\n",
    "This notebook performs data cleaning and preprocessing operations on the Stack Overflow Developer Survey dataset."
   ]
  },
  {
   "cell_type": "code",
   "execution_count": 131,
   "id": "4d8419d8",
   "metadata": {},
   "outputs": [],
   "source": [
    "import pandas as pd\n",
    "import numpy as np\n",
    "import matplotlib.pyplot as plt\n",
    "import seaborn as sns\n",
    "from pathlib import Path\n",
    "import os"
   ]
  },
  {
   "cell_type": "markdown",
   "id": "a3f08183",
   "metadata": {},
   "source": [
    "## Define Data Paths"
   ]
  },
  {
   "cell_type": "code",
   "execution_count": null,
   "id": "f1302ca1",
   "metadata": {},
   "outputs": [
    {
     "name": "stdout",
     "output_type": "stream",
     "text": [
      "Dataset loaded from ..\\data\\interim\\clean_v2.csv with 65437 rows and 15 columns\n"
     ]
    }
   ],
   "source": [
    "# Define data paths\n",
    "data_path = Path('../data')\n",
    "interim_data_path = Path('../data/interim')\n",
    "clean_v2_path = Path('../data/interim/clean_v2.csv')\n",
    "output_path = Path('../data/interim/clean_v4.csv')\n",
    "df = pd.read_csv(clean_v2_path)\n",
    "print(f\"Dataset loaded from {clean_v2_path} with {df.shape[0]} rows and {df.shape[1]} columns\")"
   ]
  },
  {
   "cell_type": "code",
   "execution_count": 133,
   "id": "cd21fe43",
   "metadata": {},
   "outputs": [
    {
     "name": "stdout",
     "output_type": "stream",
     "text": [
      "<class 'pandas.core.frame.DataFrame'>\n",
      "RangeIndex: 65437 entries, 0 to 65436\n",
      "Data columns (total 15 columns):\n",
      " #   Column                   Non-Null Count  Dtype \n",
      "---  ------                   --------------  ----- \n",
      " 0   ResponseId               65437 non-null  int64 \n",
      " 1   MainBranch               65437 non-null  object\n",
      " 2   Age                      65437 non-null  object\n",
      " 3   Employment               65437 non-null  object\n",
      " 4   EdLevel                  60784 non-null  object\n",
      " 5   YearsCode                59869 non-null  object\n",
      " 6   YearsCodePro             51610 non-null  object\n",
      " 7   DevType                  59445 non-null  object\n",
      " 8   LanguageHaveWorkedWith   59745 non-null  object\n",
      " 9   DatabaseHaveWorkedWith   50254 non-null  object\n",
      " 10  PlatformHaveWorkedWith   42366 non-null  object\n",
      " 11  WebframeHaveWorkedWith   45161 non-null  object\n",
      " 12  EmbeddedHaveWorkedWith   22214 non-null  object\n",
      " 13  MiscTechHaveWorkedWith   39443 non-null  object\n",
      " 14  ToolsTechHaveWorkedWith  52482 non-null  object\n",
      "dtypes: int64(1), object(14)\n",
      "memory usage: 7.5+ MB\n"
     ]
    }
   ],
   "source": [
    "# Display basic information about the dataset\n",
    "df.info()"
   ]
  },
  {
   "cell_type": "markdown",
   "id": "9a23d1df",
   "metadata": {},
   "source": [
    "## Data Cleaning\n",
    "\n",
    "1. Drop specified columns\n",
    "2. Filter out students\n",
    "3. Remove rows with null values in DevType"
   ]
  },
  {
   "cell_type": "code",
   "execution_count": null,
   "id": "b827dc31",
   "metadata": {},
   "outputs": [
    {
     "name": "stdout",
     "output_type": "stream",
     "text": [
      "After dropping columns: 65437 rows and 11 columns\n"
     ]
    }
   ],
   "source": [
    "# Define columns to drop\n",
    "columns_to_drop = ['ResponseId', 'MainBranch', 'Age', 'Employment','EdLevel','YearsCode','YearsCodePro']\n",
    "\n",
    "# Check if columns exist in the dataframe\n",
    "missing_columns = [col for col in columns_to_drop if col not in df.columns]\n",
    "if missing_columns:\n",
    "    print(f\"Warning: The following columns are not in the dataframe: {missing_columns}\")\n",
    "    # Remove missing columns from columns_to_drop\n",
    "    columns_to_drop = [col for col in columns_to_drop if col in df.columns]\n",
    "\n",
    "# Step 1: Drop specified columns\n",
    "df_cleaned = df.drop(columns=columns_to_drop)\n",
    "print(f\"After dropping columns: {df_cleaned.shape[0]} rows and {df_cleaned.shape[1]} columns\")"
   ]
  },
  {
   "cell_type": "code",
   "execution_count": 135,
   "id": "646172ed",
   "metadata": {},
   "outputs": [
    {
     "name": "stdout",
     "output_type": "stream",
     "text": [
      "Before filtering: 65437 rows\n",
      "After filtering: 54343 rows\n",
      "Removed 11094 rows (16.95% of the dataset)\n"
     ]
    }
   ],
   "source": [
    "rows_before = df_cleaned.shape[0]\n",
    "\n",
    "df_filtered = df_cleaned[\n",
    "    (df_cleaned['DevType'] != 'Student') & \n",
    "    (~df_cleaned['DevType'].isna())\n",
    "]\n",
    "\n",
    "rows_after = df_filtered.shape[0]\n",
    "rows_removed = rows_before - rows_after\n",
    "percentage = (rows_removed / rows_before) * 100\n",
    "\n",
    "print(f\"Before filtering: {rows_before} rows\")\n",
    "print(f\"After filtering: {rows_after} rows\")\n",
    "print(f\"Removed {rows_removed} rows ({percentage:.2f}% of the dataset)\")"
   ]
  },
  {
   "cell_type": "code",
   "execution_count": 136,
   "id": "812a5641",
   "metadata": {},
   "outputs": [
    {
     "name": "stdout",
     "output_type": "stream",
     "text": [
      "<class 'pandas.core.frame.DataFrame'>\n",
      "Index: 54343 entries, 1 to 65435\n",
      "Data columns (total 11 columns):\n",
      " #   Column                   Non-Null Count  Dtype \n",
      "---  ------                   --------------  ----- \n",
      " 0   EdLevel                  54343 non-null  object\n",
      " 1   YearsCode                54125 non-null  object\n",
      " 2   YearsCodePro             49754 non-null  object\n",
      " 3   DevType                  54343 non-null  object\n",
      " 4   LanguageHaveWorkedWith   52495 non-null  object\n",
      " 5   DatabaseHaveWorkedWith   45220 non-null  object\n",
      " 6   PlatformHaveWorkedWith   38622 non-null  object\n",
      " 7   WebframeHaveWorkedWith   40550 non-null  object\n",
      " 8   EmbeddedHaveWorkedWith   18627 non-null  object\n",
      " 9   MiscTechHaveWorkedWith   35246 non-null  object\n",
      " 10  ToolsTechHaveWorkedWith  47116 non-null  object\n",
      "dtypes: object(11)\n",
      "memory usage: 5.0+ MB\n"
     ]
    }
   ],
   "source": [
    "# Check the new dataset\n",
    "df_filtered.info()"
   ]
  },
  {
   "cell_type": "markdown",
   "id": "ff5952e8",
   "metadata": {},
   "source": [
    "## Save the Cleaned Dataset"
   ]
  },
  {
   "cell_type": "markdown",
   "id": "edb01c4e",
   "metadata": {},
   "source": [
    "## Additional Filtering\n",
    "\n",
    "Remove rows where ALL technology-related fields are null:"
   ]
  },
  {
   "cell_type": "code",
   "execution_count": 137,
   "id": "598360be",
   "metadata": {},
   "outputs": [
    {
     "name": "stdout",
     "output_type": "stream",
     "text": [
      "Before tech field filtering: 54343 rows\n",
      "After tech field filtering: 52692 rows\n",
      "Removed 1651 rows (3.04% of the remaining dataset)\n"
     ]
    }
   ],
   "source": [
    "# Define tech-related columns to check for nulls\n",
    "tech_columns = [\n",
    "    'LanguageHaveWorkedWith',\n",
    "    'DatabaseHaveWorkedWith',\n",
    "    'PlatformHaveWorkedWith',\n",
    "    'WebframeHaveWorkedWith',\n",
    "    'EmbeddedHaveWorkedWith',\n",
    "    'MiscTechHaveWorkedWith',\n",
    "    'ToolsTechHaveWorkedWith'\n",
    "]\n",
    "\n",
    "# Number of rows before tech field filtering\n",
    "rows_before_tech_filter = df_filtered.shape[0]\n",
    "\n",
    "# Filter out rows where ALL technology columns are null\n",
    "df_filtered = df_filtered[~df_filtered[tech_columns].isna().all(axis=1)]\n",
    "\n",
    "# Number of rows after tech field filtering\n",
    "rows_after_tech_filter = df_filtered.shape[0]\n",
    "rows_removed_tech_filter = rows_before_tech_filter - rows_after_tech_filter\n",
    "percentage_tech_filter = (rows_removed_tech_filter / rows_before_tech_filter) * 100 if rows_before_tech_filter > 0 else 0\n",
    "\n",
    "print(f\"Before tech field filtering: {rows_before_tech_filter} rows\")\n",
    "print(f\"After tech field filtering: {rows_after_tech_filter} rows\")\n",
    "print(f\"Removed {rows_removed_tech_filter} rows ({percentage_tech_filter:.2f}% of the remaining dataset)\")"
   ]
  },
  {
   "cell_type": "markdown",
   "id": "5d5d7154",
   "metadata": {},
   "source": [
    "## Filter Specific DevType Values\n",
    "\n",
    "Remove rows with specific DevType values that are not of interest for our analysis:"
   ]
  },
  {
   "cell_type": "code",
   "execution_count": null,
   "id": "34cbc30d",
   "metadata": {},
   "outputs": [
    {
     "name": "stdout",
     "output_type": "stream",
     "text": [
      "Before DevType filtering: 52692 rows\n",
      "After DevType filtering: 45377 rows\n",
      "Removed 7315 rows (13.88% of the remaining dataset)\n"
     ]
    }
   ],
   "source": [
    "# Define DevType values to drop\n",
    "dev_types_to_drop = [\n",
    "    'Scientist',\n",
    "    'Developer Advocate',\n",
    "    'Research & Development role',\n",
    "    'Developer Experience',\n",
    "    'Designer',\n",
    "    'Senior Executive (C-Suite, VP, etc.)',\n",
    "    'Educator',\n",
    "    'Developer, QA or test',\n",
    "    'Engineer, site reliability',\n",
    "    'Marketing or sales professional',\n",
    "    'Other (please specify):',\n",
    "    'Academic researcher',\n",
    "    'Engineering manager',\n",
    "    ' Product manager',\n",
    "    ' Project manager',\n",
    "    ' Security professional '\n",
    "]\n",
    "\n",
    "# Count rows before DevType filtering\n",
    "rows_before_devtype_filter = df_filtered.shape[0]\n",
    "\n",
    "# Filter out rows with specified DevType values\n",
    "df_filtered = df_filtered[~df_filtered['DevType'].isin(dev_types_to_drop)]\n",
    "\n",
    "# Count rows after DevType filtering\n",
    "rows_after_devtype_filter = df_filtered.shape[0]\n",
    "rows_removed_devtype = rows_before_devtype_filter - rows_after_devtype_filter\n",
    "percentage_devtype = (rows_removed_devtype / rows_before_devtype_filter) * 100 if rows_before_devtype_filter > 0 else 0\n",
    "\n",
    "print(f\"Before DevType filtering: {rows_before_devtype_filter} rows\")\n",
    "print(f\"After DevType filtering: {rows_after_devtype_filter} rows\")\n",
    "print(f\"Removed {rows_removed_devtype} rows ({percentage_devtype:.2f}% of the remaining dataset)\")"
   ]
  },
  {
   "cell_type": "code",
   "execution_count": 139,
   "id": "9a841f15",
   "metadata": {},
   "outputs": [
    {
     "name": "stdout",
     "output_type": "stream",
     "text": [
      "Developer, full-stack: 18260 rows\n",
      "Project manager: 418 rows\n",
      "Developer, back-end: 9928 rows\n",
      "Developer, front-end: 3349 rows\n",
      "Database administrator: 171 rows\n",
      "Developer, desktop or enterprise applications: 2493 rows\n",
      "Cloud infrastructure engineer: 634 rows\n",
      "Data scientist or machine learning specialist: 1024 rows\n",
      "Developer, embedded applications or devices: 1623 rows\n",
      "System administrator: 552 rows\n",
      "DevOps specialist: 1019 rows\n",
      "Engineering manager: 1275 rows\n",
      "Security professional: 356 rows\n",
      "Developer, mobile: 2021 rows\n",
      "Developer, game or graphics: 706 rows\n",
      "Data or business analyst: 523 rows\n",
      "Product manager: 290 rows\n",
      "Developer, AI: 543 rows\n",
      "Blockchain: 235 rows\n",
      "Hardware Engineer: 200 rows\n",
      "Data engineer: 1118 rows\n"
     ]
    }
   ],
   "source": [
    "# Display unique values in the DevType column\n",
    "unique_dev_types = df_filtered['DevType'].dropna().unique()\n",
    "for dev_type in unique_dev_types:\n",
    "    count = df[df['DevType'].str.contains(dev_type, na=False)].shape[0]\n",
    "    print(f\"{dev_type}: {count} rows\")"
   ]
  },
  {
   "cell_type": "code",
   "execution_count": null,
   "id": "c3cff444",
   "metadata": {},
   "outputs": [
    {
     "name": "stdout",
     "output_type": "stream",
     "text": [
      "Before DevType filtering: 44129 rows\n",
      "After DevType filtering: 43103 rows\n",
      "Removed 1026 rows (2.33% of the remaining dataset)\n"
     ]
    }
   ],
   "source": [
    "# Define DevType values to drop\n",
    "dev_types_to_drop = [\n",
    "    'Scientist',\n",
    "    'Developer Advocate',\n",
    "    'Research & Development role',\n",
    "    'Developer Experience',\n",
    "    'Designer',\n",
    "    'Senior Executive (C-Suite, VP, etc.)',\n",
    "    'Educator',\n",
    "    'Developer, QA or test',\n",
    "    'Engineer, site reliability',\n",
    "    'Marketing or sales professional',\n",
    "    'Other (please specify):',\n",
    "    'Academic researcher',\n",
    "    'Engineering manager',\n",
    "    'Product manager',\n",
    "    'Project manager',\n",
    "    'Security professional',\n",
    "    'Hardware Engineer'\n",
    "]\n",
    "\n",
    "# Count rows before DevType filtering\n",
    "rows_before_devtype_filter = df_filtered.shape[0]\n",
    "\n",
    "# Filter out rows with specified DevType values\n",
    "df_filtered = df_filtered[~df_filtered['DevType'].isin(dev_types_to_drop)]\n",
    "\n",
    "# Count rows after DevType filtering\n",
    "rows_after_devtype_filter = df_filtered.shape[0]\n",
    "rows_removed_devtype = rows_before_devtype_filter - rows_after_devtype_filter\n",
    "percentage_devtype = (rows_removed_devtype / rows_before_devtype_filter) * 100 if rows_before_devtype_filter > 0 else 0\n",
    "\n",
    "print(f\"Before DevType filtering: {rows_before_devtype_filter} rows\")\n",
    "print(f\"After DevType filtering: {rows_after_devtype_filter} rows\")\n",
    "print(f\"Removed {rows_removed_devtype} rows ({percentage_devtype:.2f}% of the remaining dataset)\")"
   ]
  },
  {
   "cell_type": "code",
   "execution_count": 3,
   "id": "0ffa89ef",
   "metadata": {},
   "outputs": [
    {
     "name": "stdout",
     "output_type": "stream",
     "text": [
      "Dataset saved to ../../data/processed/clean_v3.csv with 42909 rows and 8 columns\n"
     ]
    }
   ],
   "source": [
    "# Save the cleaned dataset to clean_v3.csv\n",
    "df_filtered.to_csv(output_path, index=False)\n",
    "print(f\"Dataset saved to {output_path} with {df_filtered.shape[0]} rows and {df_filtered.shape[1]} columns\")"
   ]
  },
  {
   "cell_type": "markdown",
   "id": "75a24cb1",
   "metadata": {},
   "source": [
    "## Summary of Changes\n",
    "\n",
    "1. Dropped columns: ResponseId, MainBranch, Age, Employment\n",
    "2. Removed entries with DevType = 'Student' \n",
    "3. Removed entries with null values in the DevType column\n",
    "4. Removed entries where ALL technology-related columns are null\n",
    "5. Removed entries with specific DevType values: Scientist, Developer Advocate, Research & Development role, Developer Experience, Designer, Senior Executive, Educator, (Developer, QA or test), (Engineer, site reliability), Marketing or sales professional, Other\n",
    "6. Saved the cleaned dataset to clean_v5.csv"
   ]
  }
 ],
 "metadata": {
  "kernelspec": {
   "display_name": "deep_learning",
   "language": "python",
   "name": "python3"
  },
  "language_info": {
   "codemirror_mode": {
    "name": "ipython",
    "version": 3
   },
   "file_extension": ".py",
   "mimetype": "text/x-python",
   "name": "python",
   "nbconvert_exporter": "python",
   "pygments_lexer": "ipython3",
   "version": "3.12.9"
  }
 },
 "nbformat": 4,
 "nbformat_minor": 5
}
